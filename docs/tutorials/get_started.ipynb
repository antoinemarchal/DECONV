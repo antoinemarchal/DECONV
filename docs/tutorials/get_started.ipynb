{
 "cells": [
  {
   "cell_type": "markdown",
   "id": "2f82f099-0fa8-47b9-9910-b5f9f8546b7e",
   "metadata": {},
   "source": [
    "# Getting Started with IViS"
   ]
  },
  {
   "cell_type": "code",
   "execution_count": 7,
   "id": "8e7d44e0-4d22-459a-9e94-b290aa3ee37a",
   "metadata": {},
   "outputs": [],
   "source": [
    "from ivis.imager import Imager"
   ]
  },
  {
   "cell_type": "code",
   "execution_count": null,
   "id": "fbffc79a-f164-4899-a4e2-36d27a3d38a9",
   "metadata": {},
   "outputs": [],
   "source": []
  }
 ],
 "metadata": {
  "kernelspec": {
   "display_name": "Python 3 (ipykernel)",
   "language": "python",
   "name": "python3"
  },
  "language_info": {
   "codemirror_mode": {
    "name": "ipython",
    "version": 3
   },
   "file_extension": ".py",
   "mimetype": "text/x-python",
   "name": "python",
   "nbconvert_exporter": "python",
   "pygments_lexer": "ipython3",
   "version": "3.10.14"
  }
 },
 "nbformat": 4,
 "nbformat_minor": 5
}
